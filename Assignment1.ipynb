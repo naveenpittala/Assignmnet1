{
  "nbformat": 4,
  "nbformat_minor": 0,
  "metadata": {
    "colab": {
      "name": "Assignment1.ipynb",
      "provenance": [],
      "authorship_tag": "ABX9TyNYfaFoJaqjN4aZ9EWn3LUd",
      "include_colab_link": true
    },
    "kernelspec": {
      "name": "python3",
      "display_name": "Python 3"
    }
  },
  "cells": [
    {
      "cell_type": "markdown",
      "metadata": {
        "id": "view-in-github",
        "colab_type": "text"
      },
      "source": [
        "<a href=\"https://colab.research.google.com/github/naveenpittala/Assignmnet1/blob/master/Assignment1.ipynb\" target=\"_parent\"><img src=\"https://colab.research.google.com/assets/colab-badge.svg\" alt=\"Open In Colab\"/></a>"
      ]
    },
    {
      "cell_type": "code",
      "metadata": {
        "id": "63kB0YDcPkTB",
        "colab_type": "code",
        "colab": {
          "base_uri": "https://localhost:8080/",
          "height": 521
        },
        "outputId": "de20e716-883c-4e5f-8289-f1252f32c3af"
      },
      "source": [
        "#collatzconjecture\n",
        "n=10000\n",
        "n1=n\n",
        "print(n1)\n",
        "while n1!=1:\n",
        "  \n",
        "  if(n1%2==0):\n",
        "    n1=n1/2\n",
        "    print(n1)\n",
        "  elif (n1%2!=0):\n",
        "    n1=(3*n1)+1\n",
        "    print(n1)\n",
        "\n",
        "\n"
      ],
      "execution_count": 11,
      "outputs": [
        {
          "output_type": "stream",
          "text": [
            "10000\n",
            "5000.0\n",
            "2500.0\n",
            "1250.0\n",
            "625.0\n",
            "1876.0\n",
            "938.0\n",
            "469.0\n",
            "1408.0\n",
            "704.0\n",
            "352.0\n",
            "176.0\n",
            "88.0\n",
            "44.0\n",
            "22.0\n",
            "11.0\n",
            "34.0\n",
            "17.0\n",
            "52.0\n",
            "26.0\n",
            "13.0\n",
            "40.0\n",
            "20.0\n",
            "10.0\n",
            "5.0\n",
            "16.0\n",
            "8.0\n",
            "4.0\n",
            "2.0\n",
            "1.0\n"
          ],
          "name": "stdout"
        }
      ]
    }
  ]
}