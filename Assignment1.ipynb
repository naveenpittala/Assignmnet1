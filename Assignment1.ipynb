{
  "nbformat": 4,
  "nbformat_minor": 0,
  "metadata": {
    "colab": {
      "name": "Assignment1.ipynb",
      "provenance": [],
      "authorship_tag": "ABX9TyPgtjAUDA/p04k1/SublDFR",
      "include_colab_link": true
    },
    "kernelspec": {
      "name": "python3",
      "display_name": "Python 3"
    }
  },
  "cells": [
    {
      "cell_type": "markdown",
      "metadata": {
        "id": "view-in-github",
        "colab_type": "text"
      },
      "source": [
        "<a href=\"https://colab.research.google.com/github/naveenpittala/Assignmnet1/blob/master/Assignment1.ipynb\" target=\"_parent\"><img src=\"https://colab.research.google.com/assets/colab-badge.svg\" alt=\"Open In Colab\"/></a>"
      ]
    },
    {
      "cell_type": "code",
      "metadata": {
        "id": "63kB0YDcPkTB",
        "colab_type": "code",
        "colab": {
          "base_uri": "https://localhost:8080/",
          "height": 34
        },
        "outputId": "11ece782-9864-4bc0-aace-38656116dec9"
      },
      "source": [
        "#collatzconjecture\n",
        "count=1\n",
        "\n",
        "for i in range(1,10000):\n",
        "\n",
        "  n1=i\n",
        "  while n1!=1 :\n",
        "\n",
        "\n",
        "    if(n1%2==0):\n",
        "     n1=n1/2\n",
        "    \n",
        "    \n",
        "    elif (n1%2!=0):\n",
        "     n1=(3*n1)+1\n",
        "    if(n1==1):\n",
        "     count=count+1\n",
        "     \n",
        "    if(count==9999):\n",
        "     print(\"yes\")\n",
        "  \n",
        "\n",
        "\n",
        "\n",
        "\n",
        "     \n",
        "  \n",
        "  \n",
        "  \n",
        "\n"
      ],
      "execution_count": 44,
      "outputs": [
        {
          "output_type": "stream",
          "text": [
            "yes\n"
          ],
          "name": "stdout"
        }
      ]
    }
  ]
}