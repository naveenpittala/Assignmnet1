{
  "nbformat": 4,
  "nbformat_minor": 0,
  "metadata": {
    "colab": {
      "name": "Assignment1.ipynb",
      "provenance": [],
      "collapsed_sections": [],
      "authorship_tag": "ABX9TyMtKinEe/OymAG7o8eW68rG",
      "include_colab_link": true
    },
    "kernelspec": {
      "name": "python3",
      "display_name": "Python 3"
    }
  },
  "cells": [
    {
      "cell_type": "markdown",
      "metadata": {
        "id": "view-in-github",
        "colab_type": "text"
      },
      "source": [
        "<a href=\"https://colab.research.google.com/github/naveenpittala/Assignmnet1/blob/master/Assignment1.ipynb\" target=\"_parent\"><img src=\"https://colab.research.google.com/assets/colab-badge.svg\" alt=\"Open In Colab\"/></a>"
      ]
    },
    {
      "cell_type": "code",
      "metadata": {
        "id": "63kB0YDcPkTB",
        "colab_type": "code",
        "colab": {
          "base_uri": "https://localhost:8080/",
          "height": 34
        },
        "outputId": "11ece782-9864-4bc0-aace-38656116dec9"
      },
      "source": [
        "#collatzconjecture\n",
        "count=1\n",
        "\n",
        "for i in range(1,10000):\n",
        "\n",
        "  n1=i\n",
        "  while n1!=1 :\n",
        "\n",
        "\n",
        "    if(n1%2==0):\n",
        "     n1=n1/2\n",
        "    \n",
        "    \n",
        "    elif (n1%2!=0):\n",
        "     n1=(3*n1)+1\n",
        "    if(n1==1):\n",
        "     count=count+1\n",
        "     \n",
        "    if(count==9999):\n",
        "     print(\"yes\")\n",
        "  \n",
        "\n",
        "\n",
        "\n",
        "\n",
        "     \n",
        "  \n",
        "  \n",
        "  \n",
        "\n"
      ],
      "execution_count": 44,
      "outputs": [
        {
          "output_type": "stream",
          "text": [
            "yes\n"
          ],
          "name": "stdout"
        }
      ]
    },
    {
      "cell_type": "code",
      "metadata": {
        "colab_type": "code",
        "outputId": "23b7e9a5-70cc-4d98-d0e1-7af966738a28",
        "id": "w5g2vKBUNCWp",
        "colab": {
          "base_uri": "https://localhost:8080/",
          "height": 34
        }
      },
      "source": [
        "#montyhallproblemforsame\n",
        "import random\n",
        "count=0\n",
        "\n",
        "for i in range(1,1001):\n",
        "  items=['C','G','G']\n",
        "  \n",
        "  if random.choice(items)=='C':\n",
        "    count=count+1\n",
        "print(count)\n",
        "\n",
        "\n",
        "\n",
        "\n",
        "\n"
      ],
      "execution_count": 15,
      "outputs": [
        {
          "output_type": "stream",
          "text": [
            "323\n"
          ],
          "name": "stdout"
        }
      ]
    },
    {
      "cell_type": "code",
      "metadata": {
        "id": "w6ungNaqNW8V",
        "colab_type": "code",
        "colab": {
          "base_uri": "https://localhost:8080/",
          "height": 34
        },
        "outputId": "519c95ba-6944-4e4f-b347-e4d6dad0171a"
      },
      "source": [
        "#montyhallproblemfordifferent\n",
        "import random\n",
        "count=0\n",
        "\n",
        "for i in range(1,1001):\n",
        "  items=['C','G','G']\n",
        "  n=random.choice(items)\n",
        "  if(n=='C'):\n",
        "    n='G'\n",
        "  else:\n",
        "    n='C'\n",
        "\n",
        "\n",
        "  if n=='C':\n",
        "    count=count+1\n",
        "print(count)\n",
        "\n",
        "\n",
        "\n",
        "\n",
        "\n"
      ],
      "execution_count": 14,
      "outputs": [
        {
          "output_type": "stream",
          "text": [
            "661\n"
          ],
          "name": "stdout"
        }
      ]
    },
    {
      "cell_type": "code",
      "metadata": {
        "id": "lAwYcKtvR9hk",
        "colab_type": "code",
        "colab": {}
      },
      "source": [
        ""
      ],
      "execution_count": 0,
      "outputs": []
    }
  ]
}