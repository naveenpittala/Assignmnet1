{
  "nbformat": 4,
  "nbformat_minor": 0,
  "metadata": {
    "colab": {
      "name": "Assignment4.ipynb",
      "provenance": [],
      "collapsed_sections": [],
      "authorship_tag": "ABX9TyNnkcLMVAo2MRON35PldSyK",
      "include_colab_link": true
    },
    "kernelspec": {
      "name": "python3",
      "display_name": "Python 3"
    }
  },
  "cells": [
    {
      "cell_type": "markdown",
      "metadata": {
        "id": "view-in-github",
        "colab_type": "text"
      },
      "source": [
        "<a href=\"https://colab.research.google.com/github/naveenpittala/Assignmnet1/blob/master/Assignment4.ipynb\" target=\"_parent\"><img src=\"https://colab.research.google.com/assets/colab-badge.svg\" alt=\"Open In Colab\"/></a>"
      ]
    },
    {
      "cell_type": "code",
      "metadata": {
        "id": "EAUPMl9_CBnr",
        "colab_type": "code",
        "colab": {}
      },
      "source": [
        "# A marathon problem"
      ],
      "execution_count": 0,
      "outputs": []
    },
    {
      "cell_type": "code",
      "metadata": {
        "id": "8oZyjTBXzoB8",
        "colab_type": "code",
        "outputId": "118a16e5-9f56-4b23-fc35-e92964119516",
        "colab": {
          "base_uri": "https://localhost:8080/",
          "height": 185
        }
      },
      "source": [
        "import numpy as np #generating random \n",
        "a=np.random.randint(10, size=(10, 20))\n",
        "print(a)"
      ],
      "execution_count": 0,
      "outputs": [
        {
          "output_type": "stream",
          "text": [
            "[[1 0 9 6 2 2 0 3 8 5 9 7 8 7 4 7 2 5 6 7]\n",
            " [4 8 6 1 6 6 2 9 6 0 3 4 4 6 7 5 2 1 5 7]\n",
            " [4 3 9 1 8 7 4 5 4 9 0 2 1 6 4 0 5 0 9 7]\n",
            " [3 8 6 3 3 8 7 4 1 8 9 2 9 1 7 9 5 5 1 7]\n",
            " [0 7 2 0 0 7 6 7 6 4 8 0 6 6 1 9 1 8 1 1]\n",
            " [8 1 1 1 3 3 6 9 6 9 1 5 8 9 6 0 8 9 8 5]\n",
            " [9 5 6 8 8 0 2 2 0 8 3 4 9 5 0 9 5 2 6 3]\n",
            " [6 6 7 0 1 0 9 7 2 7 8 7 5 5 7 3 6 8 4 1]\n",
            " [1 0 8 1 4 2 5 7 2 8 4 7 2 5 2 1 5 0 2 2]\n",
            " [4 3 5 1 7 0 1 5 9 4 7 3 4 5 2 3 5 5 4 3]]\n"
          ],
          "name": "stdout"
        }
      ]
    },
    {
      "cell_type": "code",
      "metadata": {
        "id": "TasKxBXQzz6Y",
        "colab_type": "code",
        "outputId": "07954bf1-7676-4552-94cd-fc5a8b562927",
        "colab": {
          "base_uri": "https://localhost:8080/",
          "height": 34
        }
      },
      "source": [
        "b=np.random.randint(10, size=(1, 20)) #length of each track\n",
        "print(b)"
      ],
      "execution_count": 0,
      "outputs": [
        {
          "output_type": "stream",
          "text": [
            "[[6 9 3 4 3 3 2 0 6 1 7 9 1 7 0 5 4 7 8 1]]\n"
          ],
          "name": "stdout"
        }
      ]
    },
    {
      "cell_type": "code",
      "metadata": {
        "id": "8SSNI3Bu0kKk",
        "colab_type": "code",
        "outputId": "23884f03-74df-4d80-a4c7-871acaeb6dd1",
        "colab": {
          "base_uri": "https://localhost:8080/",
          "height": 185
        }
      },
      "source": [
        "d=a*b\n",
        "print(d)"
      ],
      "execution_count": 0,
      "outputs": [
        {
          "output_type": "stream",
          "text": [
            "[[ 6  0 27 24  6  6  0  0 48  5 63 63  8 49  0 35  8 35 48  7]\n",
            " [24 72 18  4 18 18  4  0 36  0 21 36  4 42  0 25  8  7 40  7]\n",
            " [24 27 27  4 24 21  8  0 24  9  0 18  1 42  0  0 20  0 72  7]\n",
            " [18 72 18 12  9 24 14  0  6  8 63 18  9  7  0 45 20 35  8  7]\n",
            " [ 0 63  6  0  0 21 12  0 36  4 56  0  6 42  0 45  4 56  8  1]\n",
            " [48  9  3  4  9  9 12  0 36  9  7 45  8 63  0  0 32 63 64  5]\n",
            " [54 45 18 32 24  0  4  0  0  8 21 36  9 35  0 45 20 14 48  3]\n",
            " [36 54 21  0  3  0 18  0 12  7 56 63  5 35  0 15 24 56 32  1]\n",
            " [ 6  0 24  4 12  6 10  0 12  8 28 63  2 35  0  5 20  0 16  2]\n",
            " [24 27 15  4 21  0  2  0 54  4 49 27  4 35  0 15 20 35 32  3]]\n"
          ],
          "name": "stdout"
        }
      ]
    },
    {
      "cell_type": "code",
      "metadata": {
        "id": "HixV3Xr_05U-",
        "colab_type": "code",
        "outputId": "e90bba1f-2dd4-42d1-a35c-16cdb3865a2b",
        "colab": {
          "base_uri": "https://localhost:8080/",
          "height": 34
        }
      },
      "source": [
        "# Who ran for maximum total distance?\n",
        "d.sum(axis=1).argmax()"
      ],
      "execution_count": 0,
      "outputs": [
        {
          "output_type": "execute_result",
          "data": {
            "text/plain": [
              "0"
            ]
          },
          "metadata": {
            "tags": []
          },
          "execution_count": 13
        }
      ]
    },
    {
      "cell_type": "code",
      "metadata": {
        "id": "HFBg8MyA1sCO",
        "colab_type": "code",
        "outputId": "08858f6b-229c-4887-a04f-232fe390a3c6",
        "colab": {
          "base_uri": "https://localhost:8080/",
          "height": 34
        }
      },
      "source": [
        "# Who ran for minimum total distance?\n",
        "d.sum(axis=1).argmin()"
      ],
      "execution_count": 0,
      "outputs": [
        {
          "output_type": "execute_result",
          "data": {
            "text/plain": [
              "8"
            ]
          },
          "metadata": {
            "tags": []
          },
          "execution_count": 14
        }
      ]
    },
    {
      "cell_type": "code",
      "metadata": {
        "id": "P4TsQsZb2Ljw",
        "colab_type": "code",
        "outputId": "af7801cb-554e-44e3-e0d8-1662fe8e70e3",
        "colab": {
          "base_uri": "https://localhost:8080/",
          "height": 34
        }
      },
      "source": [
        "# Who ran for maximum distance in each track\n",
        "d.argmax(axis=0)"
      ],
      "execution_count": 0,
      "outputs": [
        {
          "output_type": "execute_result",
          "data": {
            "text/plain": [
              "array([6, 1, 0, 6, 2, 3, 7, 0, 9, 2, 0, 0, 3, 5, 0, 3, 5, 5, 2, 0])"
            ]
          },
          "metadata": {
            "tags": []
          },
          "execution_count": 16
        }
      ]
    },
    {
      "cell_type": "code",
      "metadata": {
        "id": "K9kp4IlY2bEk",
        "colab_type": "code",
        "outputId": "e833b1e6-66c4-4b7d-8dbc-fa4c5d887bef",
        "colab": {
          "base_uri": "https://localhost:8080/",
          "height": 34
        }
      },
      "source": [
        "# Who ran for minimum distance in each track\n",
        "d.argmin(axis=1)"
      ],
      "execution_count": 0,
      "outputs": [
        {
          "output_type": "execute_result",
          "data": {
            "text/plain": [
              "array([1, 7, 7, 7, 0, 7, 5, 3, 1, 5])"
            ]
          },
          "metadata": {
            "tags": []
          },
          "execution_count": 18
        }
      ]
    },
    {
      "cell_type": "code",
      "metadata": {
        "id": "xlTRrOC72iiz",
        "colab_type": "code",
        "outputId": "066099cc-da9f-47b2-d53c-e1d1fd76c0d2",
        "colab": {
          "base_uri": "https://localhost:8080/",
          "height": 34
        }
      },
      "source": [
        " # How much did B run in total?\n",
        " d[1].sum()"
      ],
      "execution_count": 0,
      "outputs": [
        {
          "output_type": "execute_result",
          "data": {
            "text/plain": [
              "384"
            ]
          },
          "metadata": {
            "tags": []
          },
          "execution_count": 19
        }
      ]
    },
    {
      "cell_type": "code",
      "metadata": {
        "id": "KQpysZot2wIk",
        "colab_type": "code",
        "outputId": "9b126ccd-7c38-4d42-f5c7-069cb6d7b497",
        "colab": {
          "base_uri": "https://localhost:8080/",
          "height": 34
        }
      },
      "source": [
        "#  How much did C run in total on track 0, 1 and 2?\n",
        "d[2,[0,1,2]].sum()"
      ],
      "execution_count": 0,
      "outputs": [
        {
          "output_type": "execute_result",
          "data": {
            "text/plain": [
              "78"
            ]
          },
          "metadata": {
            "tags": []
          },
          "execution_count": 27
        }
      ]
    },
    {
      "cell_type": "code",
      "metadata": {
        "id": "LEhM3A3f3Uqo",
        "colab_type": "code",
        "outputId": "3e738716-dab5-4259-bbcd-48139a70fb76",
        "colab": {
          "base_uri": "https://localhost:8080/",
          "height": 34
        }
      },
      "source": [
        "# How much did D run in total on track 0, 2 and 3?\n",
        "d[3,[0,2,3]].sum()"
      ],
      "execution_count": 0,
      "outputs": [
        {
          "output_type": "execute_result",
          "data": {
            "text/plain": [
              "48"
            ]
          },
          "metadata": {
            "tags": []
          },
          "execution_count": 28
        }
      ]
    },
    {
      "cell_type": "code",
      "metadata": {
        "id": "uXoiK5LS3pQ5",
        "colab_type": "code",
        "colab": {}
      },
      "source": [
        "# How much did C, D and E run in total on track 0, 2 and 3?\n",
        "d[[2],[0,2,3]].sum() + d[[3],[0,2,3]].sum() + d[[4],[0,2,3]].sum()"
      ],
      "execution_count": 0,
      "outputs": []
    },
    {
      "cell_type": "code",
      "metadata": {
        "id": "zFEJ8ctH426s",
        "colab_type": "code",
        "colab": {}
      },
      "source": [
        "## How many person beat A on track 1 ?\n",
        "a[,[1]]>0\n"
      ],
      "execution_count": 0,
      "outputs": []
    },
    {
      "cell_type": "code",
      "metadata": {
        "id": "Erbxst6256cQ",
        "colab_type": "code",
        "outputId": "6c822c0e-8728-46c5-8604-c1c81fd97e25",
        "colab": {
          "base_uri": "https://localhost:8080/",
          "height": 34
        }
      },
      "source": [
        "## How many person beat A in terms of total distance covered on track 0, 1 and 3?\n",
        "d[0:,[0,1,3]].sum()"
      ],
      "execution_count": 0,
      "outputs": [
        {
          "output_type": "execute_result",
          "data": {
            "text/plain": [
              "697"
            ]
          },
          "metadata": {
            "tags": []
          },
          "execution_count": 76
        }
      ]
    },
    {
      "cell_type": "code",
      "metadata": {
        "id": "8TWBGnWH-fGE",
        "colab_type": "code",
        "outputId": "88c3431d-fec7-4cea-dfcf-79a264b8286d",
        "colab": {
          "base_uri": "https://localhost:8080/",
          "height": 34
        }
      },
      "source": [
        "# How much more did A run in comparison to E?\n",
        "d[0].sum()-d[4].sum()"
      ],
      "execution_count": 0,
      "outputs": [
        {
          "output_type": "execute_result",
          "data": {
            "text/plain": [
              "78"
            ]
          },
          "metadata": {
            "tags": []
          },
          "execution_count": 78
        }
      ]
    },
    {
      "cell_type": "code",
      "metadata": {
        "id": "IG_E8eTq_NHv",
        "colab_type": "code",
        "outputId": "dd48c229-eee0-46a8-8e87-9b0d9dfcb44c",
        "colab": {
          "base_uri": "https://localhost:8080/",
          "height": 34
        }
      },
      "source": [
        " # What is the average distance covered by players on track 0?\n",
        " d[:,0].mean(axis=0)"
      ],
      "execution_count": 0,
      "outputs": [
        {
          "output_type": "execute_result",
          "data": {
            "text/plain": [
              "24.0"
            ]
          },
          "metadata": {
            "tags": []
          },
          "execution_count": 80
        }
      ]
    },
    {
      "cell_type": "code",
      "metadata": {
        "id": "W0SREDz-_WQr",
        "colab_type": "code",
        "outputId": "86400f25-1f0e-4172-85d8-69bc297b2287",
        "colab": {
          "base_uri": "https://localhost:8080/",
          "height": 34
        }
      },
      "source": [
        "# What is the average distance covered by A on all tracks combined?\n",
        " d[0,:].mean() #oth row and all the columns"
      ],
      "execution_count": 0,
      "outputs": [
        {
          "output_type": "execute_result",
          "data": {
            "text/plain": [
              "21.9"
            ]
          },
          "metadata": {
            "tags": []
          },
          "execution_count": 90
        }
      ]
    },
    {
      "cell_type": "code",
      "metadata": {
        "id": "zZZD5iRq_7TU",
        "colab_type": "code",
        "outputId": "e02ad5ea-cdf4-4957-9e79-ab759d2203b1",
        "colab": {
          "base_uri": "https://localhost:8080/",
          "height": 50
        }
      },
      "source": [
        "#  What is the average distance ran by each player in total on all tracks combined?\n",
        "d.mean(axis=1)"
      ],
      "execution_count": 0,
      "outputs": [
        {
          "output_type": "execute_result",
          "data": {
            "text/plain": [
              "array([21.9 , 19.2 , 16.4 , 19.65, 18.  , 21.3 , 20.8 , 21.9 , 12.65,\n",
              "       18.55])"
            ]
          },
          "metadata": {
            "tags": []
          },
          "execution_count": 91
        }
      ]
    },
    {
      "cell_type": "code",
      "metadata": {
        "id": "DEad4Fh9BHBF",
        "colab_type": "code",
        "outputId": "5fe6728e-53e3-4bdd-e012-668d9e0da130",
        "colab": {
          "base_uri": "https://localhost:8080/",
          "height": 34
        }
      },
      "source": [
        "# Which track was used the most?\n",
        "d.sum(axis=0).argmax()"
      ],
      "execution_count": 0,
      "outputs": [
        {
          "output_type": "execute_result",
          "data": {
            "text/plain": [
              "13"
            ]
          },
          "metadata": {
            "tags": []
          },
          "execution_count": 92
        }
      ]
    },
    {
      "cell_type": "code",
      "metadata": {
        "id": "5KH2s6jVBUWE",
        "colab_type": "code",
        "outputId": "1d2c6494-1d27-4e81-e02b-cf0b3d7b1b94",
        "colab": {
          "base_uri": "https://localhost:8080/",
          "height": 34
        }
      },
      "source": [
        "# which track was used the least? \n",
        "d.sum(axis=0).argmin()"
      ],
      "execution_count": 0,
      "outputs": [
        {
          "output_type": "execute_result",
          "data": {
            "text/plain": [
              "7"
            ]
          },
          "metadata": {
            "tags": []
          },
          "execution_count": 93
        }
      ]
    },
    {
      "cell_type": "code",
      "metadata": {
        "id": "g0nZnIvjBcLk",
        "colab_type": "code",
        "outputId": "1399fbb3-30cc-4db1-bef4-ee7f188c1fd5",
        "colab": {
          "base_uri": "https://localhost:8080/",
          "height": 34
        }
      },
      "source": [
        "# Which is the longest track?\n",
        "b.argmax()"
      ],
      "execution_count": 0,
      "outputs": [
        {
          "output_type": "execute_result",
          "data": {
            "text/plain": [
              "1"
            ]
          },
          "metadata": {
            "tags": []
          },
          "execution_count": 94
        }
      ]
    },
    {
      "cell_type": "code",
      "metadata": {
        "id": "1IdBVvSFBl8G",
        "colab_type": "code",
        "outputId": "c119f9a4-79c1-402e-d506-29947e28d415",
        "colab": {
          "base_uri": "https://localhost:8080/",
          "height": 34
        }
      },
      "source": [
        "# How many laps was covered on track 3 in average by all players?\n",
        "a[:,3].mean()"
      ],
      "execution_count": 0,
      "outputs": [
        {
          "output_type": "execute_result",
          "data": {
            "text/plain": [
              "2.2"
            ]
          },
          "metadata": {
            "tags": []
          },
          "execution_count": 95
        }
      ]
    },
    {
      "cell_type": "code",
      "metadata": {
        "id": "vfHTI1WkB5DF",
        "colab_type": "code",
        "colab": {}
      },
      "source": [
        "# Marathon problem ends here"
      ],
      "execution_count": 0,
      "outputs": []
    },
    {
      "cell_type": "code",
      "metadata": {
        "id": "IVMsJLv6CIoc",
        "colab_type": "code",
        "colab": {}
      },
      "source": [
        "# More on numpy"
      ],
      "execution_count": 0,
      "outputs": []
    },
    {
      "cell_type": "code",
      "metadata": {
        "id": "Y4C6FPLTCNQS",
        "colab_type": "code",
        "colab": {}
      },
      "source": [
        "'''Plot a gaussian curve with mean = 1.5 and standard deviation = 2.3\n",
        "using numpy and matplotlib (hint: the functions you need for this is\n",
        "already available in numpy, so it’s more of a googling problem)'''\n",
        "\n",
        "import numpy as np \n",
        "import matplotlib.pyplot as plt\n",
        "\n",
        "plt.show()"
      ],
      "execution_count": 0,
      "outputs": []
    },
    {
      "cell_type": "code",
      "metadata": {
        "id": "qHUBZLpGEke3",
        "colab_type": "code",
        "colab": {}
      },
      "source": [
        "''' Generate a random integer vector of size 100 in which all the values are\n",
        "between 0 to 10. Find the most frequent element in this vector'''\n",
        "c = np.random.randint(0, 10, 100)\n",
        "print(c)\n",
        "print(\"Most frequent value in the above array:\")\n",
        "print(np.bincount(c).argmax())"
      ],
      "execution_count": 0,
      "outputs": []
    },
    {
      "cell_type": "code",
      "metadata": {
        "id": "zynjh9XXGpnm",
        "colab_type": "code",
        "outputId": "74fae885-fc6c-459a-ed2b-c5f81823234f",
        "colab": {
          "base_uri": "https://localhost:8080/",
          "height": 50
        }
      },
      "source": [
        "'''Generate two random integer vectors of size 10 in which all the values\n",
        "are from 0 to 20 and find all the common elements in both of them\n",
        "'''\n",
        "c= np.random.randint(0, 100, 20)\n",
        "print(c)\n",
        "np.random.shuffle(c)\n",
        "n = 5\n",
        "print (c[np.argsort(c)[-5]])"
      ],
      "execution_count": 0,
      "outputs": [
        {
          "output_type": "stream",
          "text": [
            "[ 3  1 79 39 74 92 94 93  7 32  4 54  7 66 67 30 61 54  9 52]\n",
            "74\n"
          ],
          "name": "stdout"
        }
      ]
    },
    {
      "cell_type": "code",
      "metadata": {
        "id": "GVXLXATyHl-S",
        "colab_type": "code",
        "outputId": "73cf2313-565f-420c-909f-95c3a64ba96d",
        "colab": {
          "base_uri": "https://localhost:8080/",
          "height": 67
        }
      },
      "source": [
        "'''\n",
        "Generate two random integer vectors of size 10 in which all the values\n",
        "are from 0 to 20 and find all the common elements in both of them\n",
        "'''\n",
        "a=np.random.randint(0,20,10)\n",
        "print(a)\n",
        "b=np.random.randint(0,20,10)\n",
        "print(b)\n",
        "print(np.intersect1d(a, b))"
      ],
      "execution_count": 0,
      "outputs": [
        {
          "output_type": "stream",
          "text": [
            "[ 9 15  2  0  0 11 19 12 12  8]\n",
            "[ 6 10 13  3  3  9  3  3  5  6]\n",
            "[9]\n"
          ],
          "name": "stdout"
        }
      ]
    },
    {
      "cell_type": "code",
      "metadata": {
        "id": "Z30NgFYvJJUv",
        "colab_type": "code",
        "outputId": "d4fcbf2b-9be9-4724-b460-1a65b0039c5e",
        "colab": {
          "base_uri": "https://localhost:8080/",
          "height": 50
        }
      },
      "source": [
        "'''\n",
        "Generate a random integer vector of size 20 in which all the values are\n",
        "from 0 to 20 and print the count of unique values in it\n",
        "'''\n",
        "a=np.random.randint(0,20,20)\n",
        "print(a)\n",
        "b=np.array(np.unique(a))\n",
        "print(b.size)"
      ],
      "execution_count": 0,
      "outputs": [
        {
          "output_type": "stream",
          "text": [
            "[11  9 10  0  1 18 13  4 13 16  1 17  4  0  4 16 14  9  4 11]\n",
            "11\n"
          ],
          "name": "stdout"
        }
      ]
    },
    {
      "cell_type": "code",
      "metadata": {
        "id": "gNQ0HFNDJ91S",
        "colab_type": "code",
        "outputId": "a1438cc0-0570-4e27-9c90-27142a44467a",
        "colab": {
          "base_uri": "https://localhost:8080/",
          "height": 84
        }
      },
      "source": [
        "'''\n",
        "Generate a random integer vector of size 20 in which all the values are\n",
        "from 0 to 20. Later, print all the elements that are smaller than 5 and\n",
        "greater than 15 in the same order as they appear in the vector\n",
        "'''\n",
        "a=np.random.randint(0,20,20)\n",
        "print(\"Original array: \")\n",
        "print(a)\n",
        "print(\"Values bigger than 15 =\", a[a>15])\n",
        "print(\"Values smaller than 5 =\", a[a<5])\n"
      ],
      "execution_count": 0,
      "outputs": [
        {
          "output_type": "stream",
          "text": [
            "Original array: \n",
            "[ 0  9 15 12  0  9 10  3  7 18  0 14  0 14  4 12  1  7 11  6]\n",
            "Values bigger than 15 = [18]\n",
            "Values smaller than 5 = [0 0 3 0 0 4 1]\n"
          ],
          "name": "stdout"
        }
      ]
    },
    {
      "cell_type": "code",
      "metadata": {
        "id": "bLazOArSLi6t",
        "colab_type": "code",
        "colab": {}
      },
      "source": [
        "#supermarket in bitland\n"
      ],
      "execution_count": 0,
      "outputs": []
    },
    {
      "cell_type": "code",
      "metadata": {
        "id": "87heL5vQo7RN",
        "colab_type": "code",
        "colab": {
          "base_uri": "https://localhost:8080/",
          "height": 386
        },
        "outputId": "7330ce0e-ab9d-4721-8266-f3330d773ffe"
      },
      "source": [
        "import numpy as np\n",
        "robots= np.random.randint(5, size=(15, 4))\n",
        "print(robots)\n",
        "supermarket= np.random.randint(5, size=(7, 4))\n",
        "print(supermarket)"
      ],
      "execution_count": 2,
      "outputs": [
        {
          "output_type": "stream",
          "text": [
            "[[1 0 3 0]\n",
            " [4 1 2 1]\n",
            " [2 0 1 4]\n",
            " [2 2 2 2]\n",
            " [4 2 2 3]\n",
            " [3 4 3 0]\n",
            " [3 4 4 0]\n",
            " [3 1 1 3]\n",
            " [2 0 0 2]\n",
            " [3 4 3 3]\n",
            " [2 1 3 3]\n",
            " [4 2 1 2]\n",
            " [1 2 3 2]\n",
            " [0 4 2 2]\n",
            " [3 4 3 0]]\n",
            "[[4 2 0 2]\n",
            " [2 0 0 4]\n",
            " [4 3 2 2]\n",
            " [0 2 3 1]\n",
            " [4 3 4 1]\n",
            " [0 0 0 2]\n",
            " [4 0 1 4]]\n"
          ],
          "name": "stdout"
        }
      ]
    },
    {
      "cell_type": "code",
      "metadata": {
        "id": "nYu51HM2pI9J",
        "colab_type": "code",
        "colab": {
          "base_uri": "https://localhost:8080/",
          "height": 50
        },
        "outputId": "b6745398-ffcf-413f-f8b9-aade373304f2"
      },
      "source": [
        "#  Which robot is living in the farthest X direction?\n",
        "print(robots[:,0].argmax())\n",
        "\n",
        "#farthest Y direction\n",
        "print(robots[:,1].argmax())\n"
      ],
      "execution_count": 3,
      "outputs": [
        {
          "output_type": "stream",
          "text": [
            "1\n",
            "5\n"
          ],
          "name": "stdout"
        }
      ]
    },
    {
      "cell_type": "code",
      "metadata": {
        "id": "Vd4G1MUbqw3C",
        "colab_type": "code",
        "colab": {
          "base_uri": "https://localhost:8080/",
          "height": 34
        },
        "outputId": "8d458312-3ba5-44bb-840e-c609da3c6a0f"
      },
      "source": [
        "#  Which robot is living farthest from the origin?\n",
        "\n",
        "from scipy.spatial.distance import cdist\n",
        "print(cdist(robots,[[0,0,0,0]]).argmax())"
      ],
      "execution_count": 4,
      "outputs": [
        {
          "output_type": "stream",
          "text": [
            "9\n"
          ],
          "name": "stdout"
        }
      ]
    },
    {
      "cell_type": "code",
      "metadata": {
        "id": "jJ1enkB-rbKQ",
        "colab_type": "code",
        "colab": {
          "base_uri": "https://localhost:8080/",
          "height": 34
        },
        "outputId": "fc6c9361-79b3-48a2-cb0a-074bf558593e"
      },
      "source": [
        "# Which supermarket is in the farthest X direction\n",
        "print(supermarket[:,0].argmax())"
      ],
      "execution_count": 5,
      "outputs": [
        {
          "output_type": "stream",
          "text": [
            "0\n"
          ],
          "name": "stdout"
        }
      ]
    },
    {
      "cell_type": "code",
      "metadata": {
        "id": "MvhUE8d3ry3V",
        "colab_type": "code",
        "colab": {
          "base_uri": "https://localhost:8080/",
          "height": 34
        },
        "outputId": "7541dd7b-a5cc-4a8f-8379-d827727b2ae4"
      },
      "source": [
        "# Which supermarket is in the farthest Y direction\n",
        "print(supermarket[:,1].argmax())"
      ],
      "execution_count": 6,
      "outputs": [
        {
          "output_type": "stream",
          "text": [
            "2\n"
          ],
          "name": "stdout"
        }
      ]
    },
    {
      "cell_type": "code",
      "metadata": {
        "id": "JnVJp7Vir9jT",
        "colab_type": "code",
        "colab": {
          "base_uri": "https://localhost:8080/",
          "height": 34
        },
        "outputId": "bb8f7eea-617b-4d0d-a2b7-b148df30f97b"
      },
      "source": [
        "# Which supermarket is the farthest from the origin\n",
        "print(cdist(supermarket,[[0,0,0,0]]).argmax())"
      ],
      "execution_count": 7,
      "outputs": [
        {
          "output_type": "stream",
          "text": [
            "4\n"
          ],
          "name": "stdout"
        }
      ]
    },
    {
      "cell_type": "code",
      "metadata": {
        "id": "bolwp5iOsEz9",
        "colab_type": "code",
        "colab": {
          "base_uri": "https://localhost:8080/",
          "height": 34
        },
        "outputId": "7bb7cad1-9309-496a-c464-c183714d0ba6"
      },
      "source": [
        "#What is the distance of supermarket which is farthest from the origin\n",
        "print(cdist(supermarket,[[0,0,0,0]]).max())"
      ],
      "execution_count": 8,
      "outputs": [
        {
          "output_type": "stream",
          "text": [
            "6.48074069840786\n"
          ],
          "name": "stdout"
        }
      ]
    },
    {
      "cell_type": "code",
      "metadata": {
        "id": "-XmKw79ZsRoC",
        "colab_type": "code",
        "colab": {
          "base_uri": "https://localhost:8080/",
          "height": 521
        },
        "outputId": "137c2c87-11c7-4f95-a491-3c064337465c"
      },
      "source": [
        "distance=cdist(robots,supermarket)\n",
        "print(distance)"
      ],
      "execution_count": 9,
      "outputs": [
        {
          "output_type": "stream",
          "text": [
            "[[5.09901951 5.09901951 4.79583152 2.44948974 4.47213595 3.74165739\n",
            "  5.38516481]\n",
            " [2.44948974 4.24264069 2.23606798 4.24264069 2.82842712 4.69041576\n",
            "  3.31662479]\n",
            " [3.60555128 1.         4.24264069 4.58257569 5.56776436 3.\n",
            "  2.        ]\n",
            " [2.82842712 3.46410162 2.23606798 2.44948974 3.16227766 3.46410162\n",
            "  3.60555128]\n",
            " [2.23606798 3.60555128 1.41421356 4.58257569 3.         5.\n",
            "  2.44948974]\n",
            " [4.24264069 6.4807407  2.64575131 3.74165739 2.         6.164414\n",
            "  6.08276253]\n",
            " [5.         7.         3.16227766 3.87298335 1.73205081 6.70820393\n",
            "  6.4807407 ]\n",
            " [2.         2.         2.64575131 4.24264069 4.24264069 3.46410162\n",
            "  1.73205081]\n",
            " [2.82842712 2.         4.12310563 4.24264069 5.47722558 2.\n",
            "  3.        ]\n",
            " [3.87298335 5.19615242 2.         4.12310563 2.64575131 5.91607978\n",
            "  4.69041576]\n",
            " [3.87298335 3.31662479 3.16227766 3.         3.60555128 3.87298335\n",
            "  3.16227766]\n",
            " [1.         3.60555128 1.41421356 4.58257569 3.31662479 4.58257569\n",
            "  2.82842712]\n",
            " [4.24264069 4.24264069 3.31662479 1.41421356 3.46410162 3.74165739\n",
            "  4.58257569]\n",
            " [4.89897949 5.29150262 4.12310563 2.44948974 4.69041576 4.47213595\n",
            "  6.08276253]\n",
            " [4.24264069 6.4807407  2.64575131 3.74165739 2.         6.164414\n",
            "  6.08276253]]\n"
          ],
          "name": "stdout"
        }
      ]
    },
    {
      "cell_type": "code",
      "metadata": {
        "id": "FsRe3_bcsWQQ",
        "colab_type": "code",
        "colab": {
          "base_uri": "https://localhost:8080/",
          "height": 34
        },
        "outputId": "b65e3042-e222-4497-c7a8-2e7f293ccd81"
      },
      "source": [
        "# What is the distance between robot 0 and supermarket 0\n",
        "distance[0,0]"
      ],
      "execution_count": 11,
      "outputs": [
        {
          "output_type": "execute_result",
          "data": {
            "text/plain": [
              "5.0990195135927845"
            ]
          },
          "metadata": {
            "tags": []
          },
          "execution_count": 11
        }
      ]
    },
    {
      "cell_type": "code",
      "metadata": {
        "id": "10n5fJpusqtO",
        "colab_type": "code",
        "colab": {
          "base_uri": "https://localhost:8080/",
          "height": 50
        },
        "outputId": "c5708f4e-b391-457e-b679-ad171e08af7a"
      },
      "source": [
        "# What is the distance between robot 2 from all the supermarkets\n",
        "distance[2]"
      ],
      "execution_count": 13,
      "outputs": [
        {
          "output_type": "execute_result",
          "data": {
            "text/plain": [
              "array([3.60555128, 1.        , 4.24264069, 4.58257569, 5.56776436,\n",
              "       3.        , 2.        ])"
            ]
          },
          "metadata": {
            "tags": []
          },
          "execution_count": 13
        }
      ]
    },
    {
      "cell_type": "code",
      "metadata": {
        "id": "X7N_g4-AterD",
        "colab_type": "code",
        "colab": {
          "base_uri": "https://localhost:8080/",
          "height": 521
        },
        "outputId": "0eac5590-101f-478f-eb0b-f0fe93e25828"
      },
      "source": [
        "# What is the distance of each robot from all the supermarkets\n",
        "distance"
      ],
      "execution_count": 14,
      "outputs": [
        {
          "output_type": "execute_result",
          "data": {
            "text/plain": [
              "array([[5.09901951, 5.09901951, 4.79583152, 2.44948974, 4.47213595,\n",
              "        3.74165739, 5.38516481],\n",
              "       [2.44948974, 4.24264069, 2.23606798, 4.24264069, 2.82842712,\n",
              "        4.69041576, 3.31662479],\n",
              "       [3.60555128, 1.        , 4.24264069, 4.58257569, 5.56776436,\n",
              "        3.        , 2.        ],\n",
              "       [2.82842712, 3.46410162, 2.23606798, 2.44948974, 3.16227766,\n",
              "        3.46410162, 3.60555128],\n",
              "       [2.23606798, 3.60555128, 1.41421356, 4.58257569, 3.        ,\n",
              "        5.        , 2.44948974],\n",
              "       [4.24264069, 6.4807407 , 2.64575131, 3.74165739, 2.        ,\n",
              "        6.164414  , 6.08276253],\n",
              "       [5.        , 7.        , 3.16227766, 3.87298335, 1.73205081,\n",
              "        6.70820393, 6.4807407 ],\n",
              "       [2.        , 2.        , 2.64575131, 4.24264069, 4.24264069,\n",
              "        3.46410162, 1.73205081],\n",
              "       [2.82842712, 2.        , 4.12310563, 4.24264069, 5.47722558,\n",
              "        2.        , 3.        ],\n",
              "       [3.87298335, 5.19615242, 2.        , 4.12310563, 2.64575131,\n",
              "        5.91607978, 4.69041576],\n",
              "       [3.87298335, 3.31662479, 3.16227766, 3.        , 3.60555128,\n",
              "        3.87298335, 3.16227766],\n",
              "       [1.        , 3.60555128, 1.41421356, 4.58257569, 3.31662479,\n",
              "        4.58257569, 2.82842712],\n",
              "       [4.24264069, 4.24264069, 3.31662479, 1.41421356, 3.46410162,\n",
              "        3.74165739, 4.58257569],\n",
              "       [4.89897949, 5.29150262, 4.12310563, 2.44948974, 4.69041576,\n",
              "        4.47213595, 6.08276253],\n",
              "       [4.24264069, 6.4807407 , 2.64575131, 3.74165739, 2.        ,\n",
              "        6.164414  , 6.08276253]])"
            ]
          },
          "metadata": {
            "tags": []
          },
          "execution_count": 14
        }
      ]
    },
    {
      "cell_type": "code",
      "metadata": {
        "id": "Q92LikkuuBNY",
        "colab_type": "code",
        "colab": {
          "base_uri": "https://localhost:8080/",
          "height": 34
        },
        "outputId": "27a53e8a-bcaa-4d21-f345-367003dec6c7"
      },
      "source": [
        "# Which is the nearest supermarket for robot 2\n",
        "distance[2].argmin()"
      ],
      "execution_count": 15,
      "outputs": [
        {
          "output_type": "execute_result",
          "data": {
            "text/plain": [
              "1"
            ]
          },
          "metadata": {
            "tags": []
          },
          "execution_count": 15
        }
      ]
    },
    {
      "cell_type": "code",
      "metadata": {
        "id": "Rtesh0Z-uSt4",
        "colab_type": "code",
        "colab": {
          "base_uri": "https://localhost:8080/",
          "height": 34
        },
        "outputId": "c92cbc83-c74b-44c9-8b3d-4be8de4e32fd"
      },
      "source": [
        "#Which is the nearest supermarket for each robot\n",
        "distance.argmin(axis=1)"
      ],
      "execution_count": 18,
      "outputs": [
        {
          "output_type": "execute_result",
          "data": {
            "text/plain": [
              "array([3, 2, 1, 2, 2, 4, 4, 6, 1, 2, 3, 0, 3, 3, 4])"
            ]
          },
          "metadata": {
            "tags": []
          },
          "execution_count": 18
        }
      ]
    },
    {
      "cell_type": "code",
      "metadata": {
        "id": "HYeo6ONLucfv",
        "colab_type": "code",
        "colab": {
          "base_uri": "https://localhost:8080/",
          "height": 34
        },
        "outputId": "29d2df50-ce39-4599-8bcc-d63167681d22"
      },
      "source": [
        "#Which is the farthest supermarket for each robot\n",
        "distance.argmax(axis=1)"
      ],
      "execution_count": 19,
      "outputs": [
        {
          "output_type": "execute_result",
          "data": {
            "text/plain": [
              "array([6, 5, 4, 6, 5, 1, 1, 3, 4, 5, 0, 3, 6, 6, 1])"
            ]
          },
          "metadata": {
            "tags": []
          },
          "execution_count": 19
        }
      ]
    },
    {
      "cell_type": "code",
      "metadata": {
        "id": "6YRsicj9usV2",
        "colab_type": "code",
        "colab": {}
      },
      "source": [
        "#How much units is the nearest supermarket for each robot located\n"
      ],
      "execution_count": 0,
      "outputs": []
    },
    {
      "cell_type": "code",
      "metadata": {
        "id": "n1fgUjoquyD6",
        "colab_type": "code",
        "colab": {
          "base_uri": "https://localhost:8080/",
          "height": 34
        },
        "outputId": "6be9cd6e-9ce5-4d2d-8c28-cc6ac1e41681"
      },
      "source": [
        "#Which customer is nearest for supermarket 1\n",
        "print(distance[:,1].argmin())"
      ],
      "execution_count": 20,
      "outputs": [
        {
          "output_type": "stream",
          "text": [
            "2\n"
          ],
          "name": "stdout"
        }
      ]
    },
    {
      "cell_type": "code",
      "metadata": {
        "id": "2uFmwOJQu8Jw",
        "colab_type": "code",
        "colab": {
          "base_uri": "https://localhost:8080/",
          "height": 34
        },
        "outputId": "9cac34ce-285f-4043-e502-8c0618e60f39"
      },
      "source": [
        "#Which customer is farthest for supermarket 1\n",
        "print(distance[:,1].argmax())"
      ],
      "execution_count": 21,
      "outputs": [
        {
          "output_type": "stream",
          "text": [
            "6\n"
          ],
          "name": "stdout"
        }
      ]
    },
    {
      "cell_type": "code",
      "metadata": {
        "id": "K8Hym4lWvC-f",
        "colab_type": "code",
        "colab": {
          "base_uri": "https://localhost:8080/",
          "height": 34
        },
        "outputId": "f363b767-fded-4e50-dfd6-a0b7ab4c3eae"
      },
      "source": [
        "#Find the nearest customer for all the supermarkets\n",
        "print(distance.argmin(axis=0))"
      ],
      "execution_count": 22,
      "outputs": [
        {
          "output_type": "stream",
          "text": [
            "[11  2  4 12  6  8  7]\n"
          ],
          "name": "stdout"
        }
      ]
    },
    {
      "cell_type": "code",
      "metadata": {
        "id": "fS-Kx1Bkv4M9",
        "colab_type": "code",
        "colab": {
          "base_uri": "https://localhost:8080/",
          "height": 50
        },
        "outputId": "ca9303cd-b9f6-4f5d-8430-73a547181881"
      },
      "source": [
        "#What is the distance of nearest customer for all the supermarkets\n",
        "print(distance.min(axis=0))"
      ],
      "execution_count": 23,
      "outputs": [
        {
          "output_type": "stream",
          "text": [
            "[1.         1.         1.41421356 1.41421356 1.73205081 2.\n",
            " 1.73205081]\n"
          ],
          "name": "stdout"
        }
      ]
    },
    {
      "cell_type": "code",
      "metadata": {
        "id": "gOgYc-Lcv_Xw",
        "colab_type": "code",
        "colab": {
          "base_uri": "https://localhost:8080/",
          "height": 34
        },
        "outputId": "06a51bff-268e-412e-dca7-830687afb83c"
      },
      "source": [
        "# If robot 2 visits each supermarket, how much distance it covers in total\n",
        "distance[2,:].sum()"
      ],
      "execution_count": 24,
      "outputs": [
        {
          "output_type": "execute_result",
          "data": {
            "text/plain": [
              "23.998532020369137"
            ]
          },
          "metadata": {
            "tags": []
          },
          "execution_count": 24
        }
      ]
    },
    {
      "cell_type": "code",
      "metadata": {
        "id": "VxmzlDGRwFFp",
        "colab_type": "code",
        "colab": {
          "base_uri": "https://localhost:8080/",
          "height": 67
        },
        "outputId": "373888db-5e82-45db-a37c-0c128be42ed2"
      },
      "source": [
        "#If each robot visits each supermarket, how much distance each one covers in total\n",
        "distance.sum(axis=1)"
      ],
      "execution_count": 25,
      "outputs": [
        {
          "output_type": "execute_result",
          "data": {
            "text/plain": [
              "array([31.04231844, 24.00630677, 23.99853202, 21.21001701, 22.28789825,\n",
              "       31.35796662, 33.95625644, 20.32718511, 23.67139901, 28.44448825,\n",
              "       23.99269808, 21.32996814, 25.00445442, 32.00839172, 31.35796662])"
            ]
          },
          "metadata": {
            "tags": []
          },
          "execution_count": 25
        }
      ]
    },
    {
      "cell_type": "code",
      "metadata": {
        "id": "AgtTZOBEwUcI",
        "colab_type": "code",
        "colab": {
          "base_uri": "https://localhost:8080/",
          "height": 67
        },
        "outputId": "76a03af7-1a11-461a-fb73-13f2d91d392c"
      },
      "source": [
        "#Answer previous question if supermarket 2 is shut down\n",
        "distance[:,[0,1,3,4,5,6]].sum(axis=1)"
      ],
      "execution_count": 26,
      "outputs": [
        {
          "output_type": "execute_result",
          "data": {
            "text/plain": [
              "array([26.24648692, 21.77023879, 19.75589133, 18.97394903, 20.87368469,\n",
              "       28.71221531, 30.79397878, 17.6814338 , 19.54829339, 26.44448825,\n",
              "       20.83042042, 19.91575458, 21.68782963, 27.8852861 , 28.71221531])"
            ]
          },
          "metadata": {
            "tags": []
          },
          "execution_count": 26
        }
      ]
    },
    {
      "cell_type": "code",
      "metadata": {
        "id": "W4HHqII3wX8F",
        "colab_type": "code",
        "colab": {
          "base_uri": "https://localhost:8080/",
          "height": 67
        },
        "outputId": "aff06208-214b-4b76-9c9c-34f6cf54b849"
      },
      "source": [
        "# Answer previous question if supermarket 0 and 2 are shut down\n",
        "distance[:,[1,3,4,5,6]].sum(axis=1)"
      ],
      "execution_count": 27,
      "outputs": [
        {
          "output_type": "execute_result",
          "data": {
            "text/plain": [
              "array([21.14746741, 19.32074905, 16.15034006, 16.14552191, 18.63761671,\n",
              "       24.46957462, 25.79397878, 15.6814338 , 16.71986626, 22.5715049 ,\n",
              "       16.95743707, 18.91575458, 17.44518895, 22.98630661, 24.46957462])"
            ]
          },
          "metadata": {
            "tags": []
          },
          "execution_count": 27
        }
      ]
    },
    {
      "cell_type": "code",
      "metadata": {
        "id": "XBWqqDOUwck4",
        "colab_type": "code",
        "colab": {
          "base_uri": "https://localhost:8080/",
          "height": 67
        },
        "outputId": "af22a449-db0f-432d-923a-34ea4a0a16be"
      },
      "source": [
        "#What is the average distance each robot has to cover for visiting all supermarket\n",
        "distance.mean(axis=1)"
      ],
      "execution_count": 28,
      "outputs": [
        {
          "output_type": "execute_result",
          "data": {
            "text/plain": [
              "array([4.43461692, 3.4294724 , 3.42836172, 3.03000243, 3.18398546,\n",
              "       4.47970952, 4.85089378, 2.90388359, 3.38162843, 4.06349832,\n",
              "       3.4275283 , 3.04713831, 3.57206492, 4.57262739, 4.47970952])"
            ]
          },
          "metadata": {
            "tags": []
          },
          "execution_count": 28
        }
      ]
    },
    {
      "cell_type": "code",
      "metadata": {
        "id": "8NJQFmqgwiRx",
        "colab_type": "code",
        "colab": {
          "base_uri": "https://localhost:8080/",
          "height": 50
        },
        "outputId": "8a1af6a1-97d2-42f6-fcab-fd37f8ab813d"
      },
      "source": [
        "# On an average, how far is a robot located for each supermarket\n",
        "distance.mean(axis=0)"
      ],
      "execution_count": 29,
      "outputs": [
        {
          "output_type": "execute_result",
          "data": {
            "text/plain": [
              "array([3.49465673, 4.20168442, 2.94424537, 3.58118238, 3.48033113,\n",
              "       4.46551603, 4.09877373])"
            ]
          },
          "metadata": {
            "tags": []
          },
          "execution_count": 29
        }
      ]
    },
    {
      "cell_type": "code",
      "metadata": {
        "id": "jFOR2jlVwkvi",
        "colab_type": "code",
        "colab": {
          "base_uri": "https://localhost:8080/",
          "height": 302
        },
        "outputId": "958b0886-403a-4432-a8e7-f14e2b72b599"
      },
      "source": [
        "# If robots can only cover integral distances, find total number of reachable pairs (r,s)\n",
        "dis=distance.astype(int)\n",
        "\n",
        "mask=(dis==distance)\n",
        "\n",
        "#print(mask)\n",
        "np.argwhere(mask)\n"
      ],
      "execution_count": 33,
      "outputs": [
        {
          "output_type": "execute_result",
          "data": {
            "text/plain": [
              "array([[ 2,  1],\n",
              "       [ 2,  5],\n",
              "       [ 2,  6],\n",
              "       [ 4,  4],\n",
              "       [ 4,  5],\n",
              "       [ 5,  4],\n",
              "       [ 6,  0],\n",
              "       [ 6,  1],\n",
              "       [ 7,  0],\n",
              "       [ 7,  1],\n",
              "       [ 8,  1],\n",
              "       [ 8,  5],\n",
              "       [ 8,  6],\n",
              "       [ 9,  2],\n",
              "       [10,  3],\n",
              "       [11,  0],\n",
              "       [14,  4]])"
            ]
          },
          "metadata": {
            "tags": []
          },
          "execution_count": 33
        }
      ]
    },
    {
      "cell_type": "code",
      "metadata": {
        "id": "wcupE3Hswu_7",
        "colab_type": "code",
        "colab": {
          "base_uri": "https://localhost:8080/",
          "height": 34
        },
        "outputId": "003a4cb1-ca52-4035-84e0-a267cd8c4add"
      },
      "source": [
        "#If robots can only cover integral distances, which supermarket visits most customers\n",
        "print(mask.sum(axis=0).argmax())"
      ],
      "execution_count": 34,
      "outputs": [
        {
          "output_type": "stream",
          "text": [
            "1\n"
          ],
          "name": "stdout"
        }
      ]
    },
    {
      "cell_type": "code",
      "metadata": {
        "id": "1PYb88bqw9dF",
        "colab_type": "code",
        "colab": {
          "base_uri": "https://localhost:8080/",
          "height": 34
        },
        "outputId": "e75f07dd-0e92-4c73-995e-ed8c01ce18f6"
      },
      "source": [
        "#If robots can only cover integral distances, find total distance covered by all robots to visit each supermarket\n",
        "print((mask*dis).sum(axis=1))"
      ],
      "execution_count": 35,
      "outputs": [
        {
          "output_type": "stream",
          "text": [
            "[ 0  0  6  0  8  2 12  4  7  2  3  1  0  0  2]\n"
          ],
          "name": "stdout"
        }
      ]
    },
    {
      "cell_type": "code",
      "metadata": {
        "id": "Kn6ejniOxxC8",
        "colab_type": "code",
        "colab": {}
      },
      "source": [
        "#If robots can only cover integral distances, how much less does each robot travel to visit all accessible supermarkets\n"
      ],
      "execution_count": 0,
      "outputs": []
    },
    {
      "cell_type": "code",
      "metadata": {
        "id": "fa-dZ5Umx2-r",
        "colab_type": "code",
        "colab": {
          "base_uri": "https://localhost:8080/",
          "height": 34
        },
        "outputId": "9afd708d-0a9a-4ff8-89f4-3ef8df88509b"
      },
      "source": [
        "#Which robot will have to walk maximum distance in order to reach supermarket 0\n",
        "print(distance[:,0].argmax())"
      ],
      "execution_count": 36,
      "outputs": [
        {
          "output_type": "stream",
          "text": [
            "0\n"
          ],
          "name": "stdout"
        }
      ]
    },
    {
      "cell_type": "code",
      "metadata": {
        "id": "9-TRI-8Sx98k",
        "colab_type": "code",
        "colab": {
          "base_uri": "https://localhost:8080/",
          "height": 67
        },
        "outputId": "ac62bd08-35fc-475d-fa5f-6e4c8a25ebca"
      },
      "source": [
        "# Calculate the distance for each robot to it’s nearest supermarket\n",
        "print(distance.min(axis=1))"
      ],
      "execution_count": 37,
      "outputs": [
        {
          "output_type": "stream",
          "text": [
            "[2.44948974 2.23606798 1.         2.23606798 1.41421356 2.\n",
            " 1.73205081 1.73205081 2.         2.         3.         1.\n",
            " 1.41421356 2.44948974 2.        ]\n"
          ],
          "name": "stdout"
        }
      ]
    },
    {
      "cell_type": "code",
      "metadata": {
        "id": "TB9xG-3VyWDj",
        "colab_type": "code",
        "colab": {
          "base_uri": "https://localhost:8080/",
          "height": 34
        },
        "outputId": "470deac4-a85a-4ae6-bb1c-04f498045730"
      },
      "source": [
        "#Which robot will have to walk maximum distance in order to reach it’s nearest supermarket\n",
        "print(distance.min(axis=1).argmax())"
      ],
      "execution_count": 38,
      "outputs": [
        {
          "output_type": "stream",
          "text": [
            "10\n"
          ],
          "name": "stdout"
        }
      ]
    },
    {
      "cell_type": "code",
      "metadata": {
        "id": "G4N_LmL8yY55",
        "colab_type": "code",
        "colab": {
          "base_uri": "https://localhost:8080/",
          "height": 50
        },
        "outputId": "e4330e8e-f2c1-46d5-9998-3a0f06c72cd4"
      },
      "source": [
        "#What is the distance of nearest customer for each supermarket\n",
        "print(distance.min(axis=0))"
      ],
      "execution_count": 39,
      "outputs": [
        {
          "output_type": "stream",
          "text": [
            "[1.         1.         1.41421356 1.41421356 1.73205081 2.\n",
            " 1.73205081]\n"
          ],
          "name": "stdout"
        }
      ]
    },
    {
      "cell_type": "code",
      "metadata": {
        "id": "iFX4jGSMyr1O",
        "colab_type": "code",
        "colab": {
          "base_uri": "https://localhost:8080/",
          "height": 34
        },
        "outputId": "433001ce-2db0-4fb8-9fd4-1d38796efccc"
      },
      "source": [
        "# If all robots travel to each of the supermarket, which robot will travel the least\n",
        "print(distance.sum(axis=1).argmin())"
      ],
      "execution_count": 41,
      "outputs": [
        {
          "output_type": "stream",
          "text": [
            "7\n"
          ],
          "name": "stdout"
        }
      ]
    },
    {
      "cell_type": "code",
      "metadata": {
        "id": "zCmQNyocyzzK",
        "colab_type": "code",
        "colab": {
          "base_uri": "https://localhost:8080/",
          "height": 34
        },
        "outputId": "9d6e3148-031e-49b7-c80a-ce4cef971587"
      },
      "source": [
        "# If all robots travel to each of the supermarket, which robot will travel the most\n",
        "print(distance.sum(axis=1).argmax())"
      ],
      "execution_count": 42,
      "outputs": [
        {
          "output_type": "stream",
          "text": [
            "6\n"
          ],
          "name": "stdout"
        }
      ]
    },
    {
      "cell_type": "code",
      "metadata": {
        "id": "0vUWoM0By6Sq",
        "colab_type": "code",
        "colab": {
          "base_uri": "https://localhost:8080/",
          "height": 34
        },
        "outputId": "e3c6a78c-74c4-45e4-b3c9-e4085240fc8a"
      },
      "source": [
        "#Also report the order of robots according to the total distance travelled by them in previous question (in increasing order)\n",
        "distance.sum(axis=1).argsort()"
      ],
      "execution_count": 43,
      "outputs": [
        {
          "output_type": "execute_result",
          "data": {
            "text/plain": [
              "array([ 7,  3, 11,  4,  8, 10,  2,  1, 12,  9,  0,  5, 14, 13,  6])"
            ]
          },
          "metadata": {
            "tags": []
          },
          "execution_count": 43
        }
      ]
    },
    {
      "cell_type": "code",
      "metadata": {
        "id": "4LeZCO9FzBgE",
        "colab_type": "code",
        "colab": {
          "base_uri": "https://localhost:8080/",
          "height": 1000
        },
        "outputId": "9dbd7f9e-0794-48d5-c8e0-ad0df73a4cec"
      },
      "source": [
        "#Generate all (robot, supermarket) pairs where distance between them is less than 4 units\n",
        "e=distance<4\n",
        "np.argwhere(e)"
      ],
      "execution_count": 44,
      "outputs": [
        {
          "output_type": "execute_result",
          "data": {
            "text/plain": [
              "array([[ 0,  3],\n",
              "       [ 0,  5],\n",
              "       [ 1,  0],\n",
              "       [ 1,  2],\n",
              "       [ 1,  4],\n",
              "       [ 1,  6],\n",
              "       [ 2,  0],\n",
              "       [ 2,  1],\n",
              "       [ 2,  5],\n",
              "       [ 2,  6],\n",
              "       [ 3,  0],\n",
              "       [ 3,  1],\n",
              "       [ 3,  2],\n",
              "       [ 3,  3],\n",
              "       [ 3,  4],\n",
              "       [ 3,  5],\n",
              "       [ 3,  6],\n",
              "       [ 4,  0],\n",
              "       [ 4,  1],\n",
              "       [ 4,  2],\n",
              "       [ 4,  4],\n",
              "       [ 4,  6],\n",
              "       [ 5,  2],\n",
              "       [ 5,  3],\n",
              "       [ 5,  4],\n",
              "       [ 6,  2],\n",
              "       [ 6,  3],\n",
              "       [ 6,  4],\n",
              "       [ 7,  0],\n",
              "       [ 7,  1],\n",
              "       [ 7,  2],\n",
              "       [ 7,  5],\n",
              "       [ 7,  6],\n",
              "       [ 8,  0],\n",
              "       [ 8,  1],\n",
              "       [ 8,  5],\n",
              "       [ 8,  6],\n",
              "       [ 9,  0],\n",
              "       [ 9,  2],\n",
              "       [ 9,  4],\n",
              "       [10,  0],\n",
              "       [10,  1],\n",
              "       [10,  2],\n",
              "       [10,  3],\n",
              "       [10,  4],\n",
              "       [10,  5],\n",
              "       [10,  6],\n",
              "       [11,  0],\n",
              "       [11,  1],\n",
              "       [11,  2],\n",
              "       [11,  4],\n",
              "       [11,  6],\n",
              "       [12,  2],\n",
              "       [12,  3],\n",
              "       [12,  4],\n",
              "       [12,  5],\n",
              "       [13,  3],\n",
              "       [14,  2],\n",
              "       [14,  3],\n",
              "       [14,  4]])"
            ]
          },
          "metadata": {
            "tags": []
          },
          "execution_count": 44
        }
      ]
    },
    {
      "cell_type": "code",
      "metadata": {
        "id": "VekUZG2lzHBF",
        "colab_type": "code",
        "colab": {}
      },
      "source": [
        ""
      ],
      "execution_count": 0,
      "outputs": []
    }
  ]
}